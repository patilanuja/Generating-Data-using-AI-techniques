{
 "cells": [
  {
   "cell_type": "markdown",
   "metadata": {},
   "source": [
    "# Introduction\n",
    "\n",
    "One of the most difficult tasks in computer vision is creating new images from existing ones. The introduction of deep learning techniques made this task feasible, attracting the researcher to create new images. Many other applications, such as object reconstruction, data augmentation, and fugitive recognition, benefit from the creation of new images.\n",
    "\n",
    "Because of their tremendous progress over the last decade, deep learning-based generative models have gained increasing attention. There are two major families of models that deserve special attention among these: Generative Adversarial Networks (GANs) and Variational Autoencoders (VAEs).\n",
    "\n",
    "VAEs, a generative model similar to GANs, combine the benefits of the Bayesian method and deep learning. It is based on elegant mathematics, is simple to understand, and performs admirably. Because of its ability to extract disentangled latent variables, it has a broader meaning than the general generative model.\n",
    "\n",
    "A VAE can be defined as being an autoencoder whose training is regularized to avoid overfitting and ensure that the latent space has good properties that enable the generative process. In this notebook, VAE will be used to generate images based on the CIFAR10 dataset. Fully Connected Variational Autoencoder (FCVAE) and Conditional Variational Autoencoder (CVAE) will be used (CVAE). To evaluate the results, I will use the Fréchet Inception Distance (FID) and Kernel Inception Distance (KID) metrics. "
   ]
  },
  {
   "cell_type": "markdown",
   "metadata": {
    "id": "VJZ8AefthL95"
   },
   "source": [
    "\n",
    "## Variational Autoencoder\n",
    "\n",
    "In this notebook, we will implement a variational autoencoder and a conditional variational autoencoder and apply them to the CIFAR10 dataset. An autoencoder seeks to learn a latent representation of our training images by using unlabeled data and learning to reconstruct its inputs. The *variational autoencoder* extends this model by adding a probabilistic spin to the encoder and decoder, allowing us to sample from the learned distribution of the latent space to generate new images at inference time."
   ]
  },
  {
   "cell_type": "markdown",
   "metadata": {
    "id": "JtA1_PsYhs24"
   },
   "source": [
    "## Setup Code\n",
    "Before getting started, we need to run some boilerplate code to set up our environment, same as previous assignments. You'll need to rerun this setup code each time you start the notebook.\n",
    "\n",
    "First, run this cell load the autoreload extension. This allows us to edit .py source files, and re-import them into the notebook for a seamless editing and debugging experience.\n"
   ]
  },
  {
   "cell_type": "code",
   "execution_count": 1,
   "metadata": {
    "executionInfo": {
     "elapsed": 21,
     "status": "ok",
     "timestamp": 1670342005523,
     "user": {
      "displayName": "Venkatesh Velidimalla",
      "userId": "10864564546085300200"
     },
     "user_tz": 300
    },
    "id": "OKXSEQjRh63r"
   },
   "outputs": [],
   "source": [
    "%load_ext autoreload\n",
    "%autoreload 2"
   ]
  },
  {
   "cell_type": "code",
   "execution_count": 31,
   "metadata": {
    "colab": {
     "base_uri": "https://localhost:8080/"
    },
    "executionInfo": {
     "elapsed": 3305,
     "status": "ok",
     "timestamp": 1670342035733,
     "user": {
      "displayName": "Venkatesh Velidimalla",
      "userId": "10864564546085300200"
     },
     "user_tz": 300
    },
    "id": "5zOOPYIUjCUO",
    "outputId": "c9cb1b08-e453-439b-a842-74974467652a"
   },
   "outputs": [
    {
     "name": "stdout",
     "output_type": "stream",
     "text": [
      "Hello from vae.py!\n",
      "Hello from a6_helper.py!\n"
     ]
    }
   ],
   "source": [
    "import sys\n",
    "import time, os\n",
    "\n",
    "os.environ[\"TZ\"] = \"US/Eastern\"\n",
    "time.tzset()\n",
    "\n",
    "from vae import hello_vae\n",
    "hello_vae()\n",
    "\n",
    "from a6_helper import hello_helper\n",
    "hello_helper()"
   ]
  },
  {
   "cell_type": "markdown",
   "metadata": {
    "id": "JuIiv2bhjFoC"
   },
   "source": [
    "Load several useful packages that are used in this notebook:"
   ]
  },
  {
   "cell_type": "code",
   "execution_count": 7,
   "metadata": {
    "executionInfo": {
     "elapsed": 4445,
     "status": "ok",
     "timestamp": 1670342040176,
     "user": {
      "displayName": "Venkatesh Velidimalla",
      "userId": "10864564546085300200"
     },
     "user_tz": 300
    },
    "id": "sLdT7GSljI0f"
   },
   "outputs": [],
   "source": [
    "from eecs598.grad import rel_error\n",
    "from eecs598.utils import reset_seed\n",
    "import math\n",
    "import torch\n",
    "import torch.nn as nn\n",
    "import torch.nn.functional as F\n",
    "from torch.nn import init\n",
    "import torchvision\n",
    "import torchvision.transforms as T\n",
    "import torch.optim as optim\n",
    "from torch.utils.data import DataLoader\n",
    "from torch.utils.data import sampler\n",
    "import torchvision.datasets as dset\n",
    "\n",
    "import matplotlib.pyplot as plt\n",
    "%matplotlib inline\n",
    "\n",
    "\n",
    "# for plotting\n",
    "plt.rcParams['figure.figsize'] = (10.0, 8.0) # set default size of plots\n",
    "plt.rcParams['font.size'] = 16\n",
    "plt.rcParams['image.interpolation'] = 'nearest'\n",
    "plt.rcParams['image.cmap'] = 'gray'"
   ]
  },
  {
   "cell_type": "markdown",
   "metadata": {
    "id": "_nqWhiLojS8M"
   },
   "source": [
    "We will use GPUs to accelerate our computation in this notebook. Run the following to make sure GPUs are enabled:"
   ]
  },
  {
   "cell_type": "code",
   "execution_count": 8,
   "metadata": {
    "colab": {
     "base_uri": "https://localhost:8080/"
    },
    "executionInfo": {
     "elapsed": 975,
     "status": "ok",
     "timestamp": 1670342041145,
     "user": {
      "displayName": "Venkatesh Velidimalla",
      "userId": "10864564546085300200"
     },
     "user_tz": 300
    },
    "id": "RdQhVgi5jVQp",
    "outputId": "df110395-d731-4def-e550-c8bf763aae79"
   },
   "outputs": [
    {
     "name": "stdout",
     "output_type": "stream",
     "text": [
      "Good to go!\n"
     ]
    }
   ],
   "source": [
    "if torch.cuda.is_available():\n",
    "    print('Good to go!')\n",
    "else:\n",
    "    print('Please set GPU via Edit -> Notebook Settings.')"
   ]
  },
  {
   "cell_type": "markdown",
   "metadata": {},
   "source": [
    "# Dataset"
   ]
  },
  {
   "cell_type": "markdown",
   "metadata": {
    "id": "bcqRQILRjchz"
   },
   "source": [
    "## Load CIFAR-10 Dataset\n",
    "\n",
    "\n",
    "We will be working on the CIFAR10 dataset here. The CIFAR-10 dataset contains 60000 32x32 color images organized into 10 classes, each with 6000 images. There are 50,000 training and 10,000 test images.\n",
    "The dataset is divided into five training batches and one test batch, each of which contains ten thousand images. The test batch contains exactly 1000 images from each class, chosen at random. The remaining images are distributed in random order to the training batches, but some training batches may contain more images from one class than another. The training batches each contain exactly 5000 images from each class.  Torchvision includes many built-in datasets in the torchvision.datasets module, as well as utility classes for creating your own datasets. We will use the PyTorch CIFAR10 wrapper to download and load the CIFAR10 dataset to simplify our code here. More information about the interface can be found in the [documentation]. The data will be saved in the 'CIFAR10_data' folder. See the [documentation](https://github.com/pytorch/vision/blob/master/torchvision/datasets/cifar.py) for more information about the interface. "
   ]
  },
  {
   "cell_type": "code",
   "execution_count": 22,
   "metadata": {
    "colab": {
     "base_uri": "https://localhost:8080/"
    },
    "executionInfo": {
     "elapsed": 2515,
     "status": "ok",
     "timestamp": 1670342189967,
     "user": {
      "displayName": "Venkatesh Velidimalla",
      "userId": "10864564546085300200"
     },
     "user_tz": 300
    },
    "id": "mExnwvTXjcF_",
    "outputId": "bff2e1dd-0fe6-43f3-9e82-a79d203589f1"
   },
   "outputs": [
    {
     "name": "stdout",
     "output_type": "stream",
     "text": [
      "Files already downloaded and verified\n",
      "Files already downloaded and verified\n"
     ]
    }
   ],
   "source": [
    "from a6_helper import show_images\n",
    "import torch\n",
    "import torchvision\n",
    "import torchvision.transforms as transforms\n",
    "\n",
    "transform = transforms.Compose(\n",
    "    [transforms.ToTensor(),\n",
    "     transforms.Normalize((0.5, 0.5, 0.5), (0.5, 0.5, 0.5))])\n",
    "\n",
    "batch_size = 4\n",
    "\n",
    "trainset = torchvision.datasets.CIFAR10(root='CIFAR10_data', train=True,\n",
    "                                        download=True, transform=transform)\n",
    "trainloader = torch.utils.data.DataLoader(trainset, batch_size=batch_size,\n",
    "                                          shuffle=True, num_workers=2)\n",
    "\n",
    "testset = torchvision.datasets.CIFAR10(root='CIFAR10_data', train=False,\n",
    "                                       download=True, transform=transform)\n",
    "testloader = torch.utils.data.DataLoader(testset, batch_size=batch_size,\n",
    "                                         shuffle=False, num_workers=2)\n",
    "\n",
    "classes = ('plane', 'car', 'bird', 'cat',\n",
    "           'deer', 'dog', 'frog', 'horse', 'ship', 'truck')\n",
    "\n"
   ]
  },
  {
   "cell_type": "markdown",
   "metadata": {
    "id": "CwDmYBjdhTrM"
   },
   "source": [
    "## Visualize dataset"
   ]
  },
  {
   "cell_type": "markdown",
   "metadata": {
    "id": "Q2X_21cTwsox"
   },
   "source": [
    "Let's take a look at the images in the CIFAR10 dataset.\n"
   ]
  },
  {
   "cell_type": "code",
   "execution_count": 33,
   "metadata": {
    "colab": {
     "base_uri": "https://localhost:8080/",
     "height": 220
    },
    "executionInfo": {
     "elapsed": 719,
     "status": "ok",
     "timestamp": 1670342195024,
     "user": {
      "displayName": "Venkatesh Velidimalla",
      "userId": "10864564546085300200"
     },
     "user_tz": 300
    },
    "id": "3JMbbxMkwrYg",
    "outputId": "d3e9b302-8f59-4318-8eec-626f573a1b3a"
   },
   "outputs": [
    {
     "data": {
      "image/png": "[encoded data removed]",
      "text/plain": [
       "<Figure size 1000x800 with 1 Axes>"
      ]
     },
     "metadata": {},
     "output_type": "display_data"
    },
    {
     "name": "stdout",
     "output_type": "stream",
     "text": [
      "truck ship  horse truck\n"
     ]
    }
   ],
   "source": [
    "import matplotlib.pyplot as plt\n",
    "import numpy as np\n",
    "def imshow(image):\n",
    "    image = image / 2 + 0.5     \n",
    "    npimg = image.numpy()\n",
    "    plt.imshow(np.transpose(npimg, (1, 2, 0)))\n",
    "    plt.show()\n",
    "\n",
    "dataiter = iter(trainloader)\n",
    "images, labels = next(dataiter)\n",
    "imshow(torchvision.utils.make_grid(images))\n",
    "\n",
    "print(' '.join(f'{classes[labels[j]]:5s}' for j in range(batch_size)))"
   ]
  },
  {
   "cell_type": "markdown",
   "metadata": {},
   "source": [
    "# Methods"
   ]
  },
  {
   "cell_type": "markdown",
   "metadata": {
    "id": "tOdQ3r5diEwr"
   },
   "source": [
    "## Fully Connected VAE\n",
    "\n",
    "The first VAE implementation will be made up entirely of fully connected layers. We wll flatten the features of our input's '3 x 32 x 32' shape to create an input dimension size of 3072. I'll define the Encoder and Decoder models in this section. And, to train the first VAE, we will use the reparametrization trick, forward pass, and loss function."
   ]
  },
  {
   "cell_type": "markdown",
   "metadata": {
    "id": "aqMjCTSMi0jX"
   },
   "source": [
    "## FC-VAE Encoder\n",
    "\n",
    "Now lets start building our fully-connected VAE network. We'll start with the encoder, which will take our images as input (after flattening C,H,W to D shape) and pass them through a three Linear+ReLU layers. We'll use this hidden dimension representation to predict both the posterior mu and posterior log-variance using two separate linear layers (both shape (N,Z)). \n",
    "\n",
    "Note that we are calling this the 'logvar' layer because we'll use the log-variance (instead of variance or standard deviation) to stabilize training. This will specifically matter more when you compute reparametrization and the loss function later. \n",
    "\n",
    "*Define an `encoder`, `hidden_dim` (H), `mu_layer`, and `logvar_layer` in the initialization of the VAE class in `vae.py`. Use nn.Sequential to define the encoder, and separate Linear layers for the mu and logvar layers. In all of these layers, H will be a hidden dimension you set and will be the same across all encoder and decoder layers. Architecture for the encoder is described below:*\n",
    "\n",
    "\n",
    " * `Flatten` (Hint: nn.Flatten)\n",
    " * Fully connected layer with input size 784 (`input_size`) and output size H\n",
    " * `ReLU`\n",
    " * Fully connected layer with input_size H and output size H\n",
    " * `ReLU`\n",
    " * Fully connected layer with input_size H and output size H\n",
    " * `ReLU`\n"
   ]
  },
  {
   "cell_type": "markdown",
   "metadata": {
    "id": "gTuEAFrgkTyt"
   },
   "source": [
    "## FC-VAE Decoder\n",
    "\n",
    "We'll now define the decoder, which will take the latent space representation and generate a reconstructed image. The architecture is as follows: \n",
    "\n",
    " * Fully connected layer with input size as the latent size (Z) and output size H\n",
    " * `ReLU`\n",
    " * Fully connected layer with input_size H and output size H\n",
    " * `ReLU`\n",
    " * Fully connected layer with input_size H and output size H\n",
    " * `ReLU`\n",
    " * Fully connected layer with input_size H and output size 3072 (`input_size`)\n",
    " * `Sigmoid`\n",
    " * `Unflatten` (nn.Unflatten)\n",
    "\n",
    "\n"
   ]
  },
  {
   "cell_type": "markdown",
   "metadata": {
    "id": "aFTb-35TiOZl"
   },
   "source": [
    "## Reparametrization \n",
    "\n",
    "\n"
   ]
  },
  {
   "cell_type": "markdown",
   "metadata": {
    "id": "SdD23s3Vf70-"
   },
   "source": [
    "Now we'll apply a reparametrization trick in order to estimate the posterior $z$ during our forward pass, given the $\\mu$ and $\\sigma^2$ estimated by the encoder. A simple way to do this could be to simply generate a normal distribution centered at our  $\\mu$ and having a std corresponding to our $\\sigma^2$. However, we would have to backpropogate through this random sampling that is not differentiable. Instead, we sample initial random data $\\epsilon$ from a fixed distrubtion, and compute $z$ as a function of ($\\epsilon$, $\\sigma^2$, $\\mu$). Specifically:\n",
    "\n",
    "$z = \\mu + \\sigma\\epsilon$\n",
    "\n",
    "We can easily find the partial derivatives w.r.t $\\mu$ and $\\sigma^2$ and backpropagate through $z$. If $\\epsilon = \\mathcal{N} (0,1)$, then it's easy to verify that the result of our forward pass calculation will be a distribution centered at $\\mu$ with variance $\\sigma^2$.\n"
   ]
  },
  {
   "cell_type": "code",
   "execution_count": 12,
   "metadata": {
    "colab": {
     "base_uri": "https://localhost:8080/"
    },
    "executionInfo": {
     "elapsed": 1692,
     "status": "ok",
     "timestamp": 1670342201216,
     "user": {
      "displayName": "Venkatesh Velidimalla",
      "userId": "10864564546085300200"
     },
     "user_tz": 300
    },
    "id": "T236XnbhbVH4",
    "outputId": "50e0d7b0-242f-45d6-fd12-199e25b9b31f"
   },
   "outputs": [
    {
     "name": "stdout",
     "output_type": "stream",
     "text": [
      "Mean Error 5.639056398351415e-05\n",
      "Std Error 7.1412955526273885e-06\n"
     ]
    }
   ],
   "source": [
    "reset_seed(0)\n",
    "from vae import reparametrize\n",
    "latent_size = 15\n",
    "size = (1, latent_size)\n",
    "mu = torch.zeros(size)\n",
    "logvar = torch.ones(size)\n",
    "\n",
    "z = reparametrize(mu, logvar)\n",
    "\n",
    "expected_mean = torch.FloatTensor([-0.4363])\n",
    "expected_std = torch.FloatTensor([1.6860])\n",
    "z_mean = torch.mean(z, dim=-1)\n",
    "z_std = torch.std(z, dim=-1)\n",
    "assert z.size() == size\n",
    "\n",
    "print('Mean Error', rel_error(z_mean, expected_mean))\n",
    "print('Std Error', rel_error(z_std, expected_std))"
   ]
  },
  {
   "cell_type": "markdown",
   "metadata": {
    "id": "XOfC7oDrkUhl"
   },
   "source": [
    "## FC-VAE Forward\n",
    "\n",
    "Complete the VAE class by writing the forward pass. The forward pass should pass the input image through the encoder to calculate the estimation of mu and logvar, reparametrize to estimate the latent space z, and finally pass z into the decoder to generate an image.\n",
    "\n"
   ]
  },
  {
   "cell_type": "markdown",
   "metadata": {
    "id": "IQ0UXWyMi9Gu"
   },
   "source": [
    "## Loss Function\n",
    "\n",
    "Before we're able to train our final model, we'll need to define our loss function. As seen below, the loss function for VAEs contains two terms: A reconstruction loss term (left) and KL divergence term (right). \n",
    "\n",
    "$-E_{Z~q_{\\phi}(z|x)}[log p_{\\theta}(x|z)] + D_{KL}(q_{\\phi}(z|x), p(z)))$\n",
    "\n",
    "Note that this is the negative of the variational lowerbound shown in lecture--this ensures that when we are minimizing this loss term, we're maximizing the variational lowerbound. The reconstruction loss term can be computed by simply using the binary cross entropy loss between the original input pixels and the output pixels of our decoder (Hint: `nn.functional.binary_cross_entropy`). The KL divergence term works to force the latent space distribution to be close to a prior distribution (we're using a standard normal gaussian as our prior).\n",
    "\n",
    "To help you out, we've derived an unvectorized form of the KL divergence term for you.\n",
    "Suppose that $q_\\phi(z|x)$ is a $Z$-dimensional diagonal Gaussian with mean $\\mu_{z|x}$ of shape $(Z,)$ and standard deviation $\\sigma_{z|x}$ of shape $(Z,)$, and that $p(z)$ is a $Z$-dimensional Gaussian with zero mean and unit variance. Then we can write the KL divergence term as:\n",
    "\n",
    "$D_{KL}(q_{\\phi}(z|x), p(z))) = -\\frac{1}{2} \\sum_{j=1}^{J} (1 + log(\\sigma_{z|x}^2)_{j} - (\\mu_{z|x})^2_{j} - (\\sigma_{z|x})^2_{j}$)\n",
    "\n",
    "It's up to you to implement a vectorized version of this loss that also operates on minibatches.\n",
    "You should average the loss across samples in the minibatch.\n",
    "\n",
    "Implement `loss_function` in `vae.py` and verify your implementation below. Your relative error should be less than or equal to `1e-5`\n",
    "\n"
   ]
  },
  {
   "cell_type": "code",
   "execution_count": 13,
   "metadata": {
    "colab": {
     "base_uri": "https://localhost:8080/"
    },
    "executionInfo": {
     "elapsed": 1204,
     "status": "ok",
     "timestamp": 1670342205826,
     "user": {
      "displayName": "Venkatesh Velidimalla",
      "userId": "10864564546085300200"
     },
     "user_tz": 300
    },
    "id": "vF2ZUj2FjrFa",
    "outputId": "ee927973-ecbb-4ecd-e6a2-d8faa143e0e5"
   },
   "outputs": [
    {
     "name": "stdout",
     "output_type": "stream",
     "text": [
      "Loss error 2.1297676389877955e-06\n"
     ]
    }
   ],
   "source": [
    "from vae import loss_function\n",
    "size = (1,15)\n",
    "\n",
    "image = torch.sigmoid(torch.FloatTensor([[2,5], [6,7]]).unsqueeze(0).unsqueeze(0))\n",
    "image_hat = torch.sigmoid(torch.FloatTensor([[1,10], [9,3]]).unsqueeze(0).unsqueeze(0))\n",
    "\n",
    "expected_out = torch.tensor(8.5079)\n",
    "mu, logvar = torch.ones(size), torch.zeros(size)\n",
    "out = loss_function(image, image_hat, mu, logvar)\n",
    "print('Loss error', rel_error(expected_out,out))"
   ]
  },
  {
   "cell_type": "markdown",
   "metadata": {
    "id": "wV8fbzenkAXm"
   },
   "source": [
    "\n",
    "## Train a model\n",
    "\n",
    "Now that we have our VAE defined and loss function ready, lets train our model! Our training script is provided  in `a6_helper.py`, and we have pre-defined an Adam optimizer, learning rate, and # of epochs for you to use. \n",
    "\n",
    "Training for 10 epochs should take ~2 minutes and your loss should be less than 120."
   ]
  },
  {
   "cell_type": "code",
   "execution_count": 32,
   "metadata": {
    "colab": {
     "base_uri": "https://localhost:8080/"
    },
    "executionInfo": {
     "elapsed": 119654,
     "status": "ok",
     "timestamp": 1670342931803,
     "user": {
      "displayName": "Venkatesh Velidimalla",
      "userId": "10864564546085300200"
     },
     "user_tz": 300
    },
    "id": "rWaaacNHsfao",
    "outputId": "50235e09-b4f9-4575-8acf-7abc68158b14"
   },
   "outputs": [
    {
     "name": "stdout",
     "output_type": "stream",
     "text": [
      "[1,  2000] loss: 2.236\n",
      "[1,  4000] loss: 1.915\n",
      "[1,  6000] loss: 1.729\n",
      "[1,  8000] loss: 1.589\n",
      "[1, 10000] loss: 1.494\n",
      "[1, 12000] loss: 1.477\n",
      "[2,  2000] loss: 1.382\n",
      "[2,  4000] loss: 1.357\n",
      "[2,  6000] loss: 1.321\n",
      "[2,  8000] loss: 1.287\n",
      "[2, 10000] loss: 1.284\n",
      "[2, 12000] loss: 1.241\n"
     ]
    }
   ],
   "source": [
    "import torch.nn as nn\n",
    "import torch.nn.functional as F\n",
    "\n",
    "\n",
    "class Net(nn.Module):\n",
    "    def __init__(self):\n",
    "        super().__init__()\n",
    "        self.conv1 = nn.Conv2d(3, 6, 5)\n",
    "        self.pool = nn.MaxPool2d(2, 2)\n",
    "        self.conv2 = nn.Conv2d(6, 16, 5)\n",
    "        self.fc1 = nn.Linear(16 * 5 * 5, 120)\n",
    "        self.fc2 = nn.Linear(120, 84)\n",
    "        self.fc3 = nn.Linear(84, 10)\n",
    "\n",
    "    def forward(self, x):\n",
    "        x = self.pool(F.relu(self.conv1(x)))\n",
    "        x = self.pool(F.relu(self.conv2(x)))\n",
    "        x = torch.flatten(x, 1) # flatten all dimensions except batch\n",
    "        x = F.relu(self.fc1(x))\n",
    "        x = F.relu(self.fc2(x))\n",
    "        x = self.fc3(x)\n",
    "        return x\n",
    "\n",
    "\n",
    "net = Net()\n",
    "import torch.optim as optim\n",
    "\n",
    "criterion = nn.CrossEntropyLoss()\n",
    "optimizer = optim.SGD(net.parameters(), lr=0.001, momentum=0.9)\n",
    "for epoch in range(2):  # loop over the dataset multiple times\n",
    "\n",
    "    running_loss = 0.0\n",
    "    for i, data in enumerate(trainloader, 0):\n",
    "        # get the inputs; data is a list of [inputs, labels]\n",
    "        inputs, labels = data\n",
    "\n",
    "        # zero the parameter gradients\n",
    "        optimizer.zero_grad()\n",
    "\n",
    "        # forward + backward + optimize\n",
    "        outputs = net(inputs)\n",
    "        loss = criterion(outputs, labels)\n",
    "        loss.backward()\n",
    "        optimizer.step()\n",
    "\n",
    "        # print statistics\n",
    "        running_loss += loss.item()\n",
    "        if i % 2000 == 1999:    # print every 2000 mini-batches\n",
    "            print(f'[{epoch + 1}, {i + 1:5d}] loss: {running_loss / 2000:.3f}')\n",
    "            running_loss = 0.0\n"
   ]
  },
  {
   "cell_type": "markdown",
   "metadata": {
    "id": "JT6Ek-26jjJD"
   },
   "source": [
    "## Visualize results\n",
    "After we've trained our VAE network, we can use its power to generate new training examples. We simply use the decoder in this process: we initialize some random distribution for our latent spaces z and generate new examples by passing these latent spaces into the decoder. To generate new images, run the cell below! Many of the images should be visually recognisable, though some may be blurry or poorly formed. These results will be improved in our next model."
   ]
  },
  {
   "cell_type": "code",
   "execution_count": 15,
   "metadata": {
    "colab": {
     "base_uri": "https://localhost:8080/",
     "height": 220
    },
    "executionInfo": {
     "elapsed": 7,
     "status": "ok",
     "timestamp": 1670343027451,
     "user": {
      "displayName": "Venkatesh Velidimalla",
      "userId": "10864564546085300200"
     },
     "user_tz": 300
    },
    "id": "RhhrsgrMTyTi",
    "outputId": "a1a2f48d-e15f-49e8-8d2f-7e1be0b0033e"
   },
   "outputs": [
    {
     "data": {
      "image/png": "[encoded data removed]",
      "text/plain": [
       "<Figure size 1000x800 with 1 Axes>"
      ]
     },
     "metadata": {},
     "output_type": "display_data"
    },
    {
     "name": "stdout",
     "output_type": "stream",
     "text": [
      "GroundTruth:  cat   ship  ship  plane\n"
     ]
    }
   ],
   "source": [
    "dataiter = iter(testloader)\n",
    "images, labels = next(dataiter)\n",
    "\n",
    "# print images\n",
    "imshow(torchvision.utils.make_grid(images))\n",
    "print('GroundTruth: ', ' '.join(f'{classes[labels[j]]:5s}' for j in range(4)))"
   ]
  },
  {
   "cell_type": "markdown",
   "metadata": {
    "id": "sx3HGSpXk1MY"
   },
   "source": [
    "## Latent Space Interpolation\n",
    "\n",
    "As a final visual test of our trained VAE model, we can perform interpolation in latent space. We generate random latent vectors $z_0$ and $z_1$, and linearly interpolate between them; we run each interpolated vector through the trained generator to produce an image.\n",
    "\n",
    "Each row of the figure below interpolates between two random vectors. For the most part the model should exhibit smooth transitions along each row, demonstrating that the model has learned something nontrivial about the underlying spatial structure of the image it is modeling."
   ]
  },
  {
   "cell_type": "code",
   "execution_count": 16,
   "metadata": {
    "colab": {
     "base_uri": "https://localhost:8080/"
    },
    "executionInfo": {
     "elapsed": 296,
     "status": "ok",
     "timestamp": 1670343088076,
     "user": {
      "displayName": "Venkatesh Velidimalla",
      "userId": "10864564546085300200"
     },
     "user_tz": 300
    },
    "id": "XZ_4XsFURmN1",
    "outputId": "1d348a8f-c8c2-4dec-be2b-9a48e3ac8099"
   },
   "outputs": [
    {
     "name": "stdout",
     "output_type": "stream",
     "text": [
      "Predicted:  cat   ship  plane ship \n"
     ]
    }
   ],
   "source": [
    "outputs = net(images)\n",
    "_, predicted = torch.max(outputs, 1)\n",
    "\n",
    "print('Predicted: ', ' '.join(f'{classes[predicted[j]]:5s}'\n",
    "                              for j in range(4)))"
   ]
  },
  {
   "cell_type": "markdown",
   "metadata": {
    "id": "wzS_ufzEkhah"
   },
   "source": [
    "# Conditional FC-VAE \n",
    "\n",
    "The second model you'll develop will be very similar to the FC-VAE, but with a slight conditional twist to it. We'll use what we know about the labels of each MNIST image, and *condition* our latent space and image generation on the specific class. Instead of $q_{\\phi} (z|x)$ and $p_{\\phi}(x|z)$ we have $q_{\\phi} (z|x,c)$  and $p_{\\phi}(x|z, c)$\n",
    "\n",
    "This will allow us to do some powerful conditional generation at inference time. We can specifically choose to generate more 1s, 2s, 9s, etc. instead of simply generating new images randomly."
   ]
  },
  {
   "cell_type": "markdown",
   "metadata": {
    "id": "hle0JuhwklKc",
    "tags": []
   },
   "source": [
    "## Define Network with class input\n",
    "\n",
    "Our CVAE architecture will be the same as our FC-VAE architecture, except we'll now add a one-hot label vector to both the x input (in our case, the flattened image dimensions) and the z latent space. \n",
    "\n",
    "If our one-hot vector is called `c`, then `c[label] = 1` and `c = 0` elsewhere.\n",
    "\n",
    "For the `CVAE` class in `vae.py` use the same FC-VAE architecture implemented in the last network with the following modifications:\n",
    "\n",
    "1. Modify the first linear layer of your `encoder` to take in not only the flattened input image, but also the one-hot label vector `c`\n",
    "2. Modify the first layer of your `decoder` to project the latent space + one-hot vector to the `hidden_dim`\n",
    "3. Lastly, implement the `forward` pass to combine the flattened input image with the one-hot vectors (`torch.cat`) before passing them to the `encoder` and combine the latent space with the one-hot vectors (`torch.cat`) before passing them to the `decoder`"
   ]
  },
  {
   "cell_type": "markdown",
   "metadata": {
    "id": "bUzKyFI9kp8i"
   },
   "source": [
    "## Train model\n",
    "\n",
    "Using the same training script, let's now train our CVAE! \n",
    "\n",
    "Training for 10 epochs should take ~2 minutes and your loss should be less than 120."
   ]
  },
  {
   "cell_type": "code",
   "execution_count": 25,
   "metadata": {
    "colab": {
     "base_uri": "https://localhost:8080/"
    },
    "executionInfo": {
     "elapsed": 8945,
     "status": "ok",
     "timestamp": 1670343192171,
     "user": {
      "displayName": "Venkatesh Velidimalla",
      "userId": "10864564546085300200"
     },
     "user_tz": 300
    },
    "id": "N1dzKDUsunbD",
    "outputId": "d497ec41-cee1-4004-b882-89785c7d147d"
   },
   "outputs": [
    {
     "name": "stdout",
     "output_type": "stream",
     "text": [
      "Accuracy of the network on the 10000 test images: 56 %\n"
     ]
    }
   ],
   "source": [
    "correct = 0\n",
    "total = 0\n",
    "\n",
    "with torch.no_grad():\n",
    "    for data in testloader:\n",
    "        images, labels = data\n",
    "        outputs = net(images)\n",
    "        _, predicted = torch.max(outputs.data, 1)\n",
    "        total += labels.size(0)\n",
    "        correct += (predicted == labels).sum().item()\n",
    "\n",
    "print(f'Accuracy of the network on the 10000 test images: {100 * correct // total} %')\n"
   ]
  },
  {
   "cell_type": "markdown",
   "metadata": {
    "id": "GMAyFBZTkr1Y"
   },
   "source": [
    "## Visualize Results\n",
    "\n",
    "Let's see the results now\n"
   ]
  },
  {
   "cell_type": "code",
   "execution_count": 29,
   "metadata": {
    "colab": {
     "base_uri": "https://localhost:8080/"
    },
    "executionInfo": {
     "elapsed": 878,
     "status": "ok",
     "timestamp": 1670343262439,
     "user": {
      "displayName": "Venkatesh Velidimalla",
      "userId": "10864564546085300200"
     },
     "user_tz": 300
    },
    "id": "GCfwpz0NALdZ",
    "outputId": "7569b62e-1407-4fba-d18f-de67da354ad8"
   },
   "outputs": [
    {
     "data": {
      "image/png": "[encoded data removed]",
      "text/plain": [
       "<Figure size 1000x800 with 1 Axes>"
      ]
     },
     "metadata": {},
     "output_type": "display_data"
    }
   ],
   "source": [
    "\n",
    "dataiter = iter(testloader)\n",
    "images, labels = next(dataiter)\n",
    "\n",
    "# print images\n",
    "imshow(torchvision.utils.make_grid(images))"
   ]
  },
  {
   "cell_type": "markdown",
   "metadata": {},
   "source": [
    "## Frechet Inception Distance\n",
    "FID is a performance metric that computes the difference between the feature vectors of real and fake images (Generated by the generator). The lower the FID score, the higher the quality of the images generated by the generator is and the more similar they are to real ones. The feature vectors of images are used in FID."
   ]
  },
  {
   "cell_type": "code",
   "execution_count": 35,
   "metadata": {},
   "outputs": [],
   "source": [
    "from torch import nn\n",
    "from torchvision.models import inception_v3\n",
    "import cv2\n",
    "import multiprocessing\n",
    "import numpy as np\n",
    "import glob\n",
    "import os\n",
    "from scipy import linalg\n",
    "\n",
    "\n",
    "\n",
    "class PartialInceptionNetwork(nn.Module):\n",
    "\n",
    "    def __init__(self, transform_input=True):\n",
    "        super().__init__()\n",
    "        self.inception_network = inception_v3(pretrained=True)\n",
    "        self.inception_network.Mixed_7c.register_forward_hook(self.output_hook)\n",
    "        self.transform_input = transform_input\n",
    "\n",
    "    def output_hook(self, module, input, output):\n",
    "        self.mixed_7c_output = output\n",
    "\n",
    "    def forward(self, x):\n",
    "        assert x.shape[1:] == (3, 299, 299), \"Expected input shape to be: (N,3,299,299)\" +\\\n",
    "                                             \", but got {}\".format(x.shape)\n",
    "        x = x * 2 -1 # Normalize to [-1, 1]\n",
    "        self.inception_network(x)\n",
    "        activations = self.mixed_7c_output\n",
    "        activations = torch.nn.functional.adaptive_avg_pool2d(activations, (1,1))\n",
    "        activations = activations.view(x.shape[0], 2048)\n",
    "        return activations\n",
    "\n",
    "\n",
    "def get_activations(images, batch_size):\n",
    "    assert images.shape[1:] == (3, 299, 299), \"Expected input shape to be: (N,3,299,299)\" +\\\n",
    "                                              \", but got {}\".format(images.shape)\n",
    "    num_images = images.shape[0]\n",
    "    inception_network = PartialInceptionNetwork()\n",
    "    inception_network = to_cuda(inception_network)\n",
    "    inception_network.eval()\n",
    "    n_batches = int(np.ceil(num_images  / batch_size))\n",
    "    inception_activations = np.zeros((num_images, 2048), dtype=np.float32)\n",
    "    for batch_idx in range(n_batches):\n",
    "        start_idx = batch_size * batch_idx\n",
    "        end_idx = batch_size * (batch_idx + 1)\n",
    "        ims = images[start_idx:end_idx]\n",
    "        ims = to_cuda(ims)\n",
    "        activations = inception_network(ims)\n",
    "        activations = activations.detach().cpu().numpy()\n",
    "        assert activations.shape == (ims.shape[0], 2048), \"Expexted output shape to be: {}, but was: {}\".format((ims.shape[0], 2048), activations.shape)\n",
    "        inception_activations[start_idx:end_idx, :] = activations\n",
    "    return inception_activations\n",
    "\n",
    "\n",
    "\n",
    "def calculate_activation_statistics(images, batch_size):\n",
    "    act = get_activations(images, batch_size)\n",
    "    mu = np.mean(act, axis=0)\n",
    "    sigma = np.cov(act, rowvar=False)\n",
    "    return mu, sigma\n",
    "\n",
    "def calculate_frechet_distance(mu1, sigma1, mu2, sigma2, eps=1e-6):\n",
    "    mu1 = np.atleast_1d(mu1)\n",
    "    mu2 = np.atleast_1d(mu2)\n",
    "    sigma1 = np.atleast_2d(sigma1)\n",
    "    sigma2 = np.atleast_2d(sigma2)\n",
    "    assert mu1.shape == mu2.shape, \"Training and test mean vectors have different lengths\"\n",
    "    assert sigma1.shape == sigma2.shape, \"Training and test covariances have different dimensions\"\n",
    "\n",
    "    diff = mu1 - mu2\n",
    "    covmean, _ = linalg.sqrtm(sigma1.dot(sigma2), disp=False)\n",
    "    if not np.isfinite(covmean).all():\n",
    "        msg = \"fid calculation produces singular product; adding %s to diagonal of cov estimates\" % eps\n",
    "        warnings.warn(msg)\n",
    "        offset = np.eye(sigma1.shape[0]) * eps\n",
    "        covmean = linalg.sqrtm((sigma1 + offset).dot(sigma2 + offset))\n",
    "\n",
    "    if np.iscomplexobj(covmean):\n",
    "        if not np.allclose(np.diagonal(covmean).imag, 0, atol=1e-3):\n",
    "            m = np.max(np.abs(covmean.imag))\n",
    "            raise ValueError(\"Imaginary component {}\".format(m))\n",
    "        covmean = covmean.real\n",
    "\n",
    "    tr_covmean = np.trace(covmean)\n",
    "    return diff.dot(diff) + np.trace(sigma1) + np.trace(sigma2) - 2 * tr_covmean\n",
    "\n",
    "\n",
    "def preprocess_image(im):\n",
    "    assert im.shape[2] == 3\n",
    "    assert len(im.shape) == 3\n",
    "    if im.dtype == np.uint8:\n",
    "        im = im.astype(np.float32) / 255\n",
    "    im = cv2.resize(im, (299, 299))\n",
    "    im = np.rollaxis(im, axis=2)\n",
    "    im = torch.from_numpy(im)\n",
    "    assert im.max() <= 1.0\n",
    "    assert im.min() >= 0.0\n",
    "    assert im.dtype == torch.float32\n",
    "    assert im.shape == (3, 299, 299)\n",
    "    return im\n",
    "\n",
    "\n",
    "def preprocess_images(images, use_multiprocessing):\n",
    "    if use_multiprocessing:\n",
    "        with multiprocessing.Pool(multiprocessing.cpu_count()) as pool:\n",
    "            jobs = []\n",
    "            for im in images:\n",
    "                job = pool.apply_async(preprocess_image, (im,))\n",
    "                jobs.append(job)\n",
    "            final_images = torch.zeros(images.shape[0], 3, 299, 299)\n",
    "            for idx, job in enumerate(jobs):\n",
    "                im = job.get()\n",
    "                final_images[idx] = im#job.get()\n",
    "    else:\n",
    "        final_images = torch.stack([preprocess_image(im) for im in images], dim=0)\n",
    "    assert final_images.shape == (images.shape[0], 3, 299, 299)\n",
    "    assert final_images.max() <= 1.0\n",
    "    assert final_images.min() >= 0.0\n",
    "    assert final_images.dtype == torch.float32\n",
    "    return final_images\n",
    "\n",
    "\n",
    "def calculate_fid(images1, images2, use_multiprocessing, batch_size):\n",
    "    images1 = preprocess_images(images1, use_multiprocessing)\n",
    "    images2 = preprocess_images(images2, use_multiprocessing)\n",
    "    mu1, sigma1 = calculate_activation_statistics(images1, batch_size)\n",
    "    mu2, sigma2 = calculate_activation_statistics(images2, batch_size)\n",
    "    fid = calculate_frechet_distance(mu1, sigma1, mu2, sigma2)\n",
    "    return fid\n",
    "\n",
    "\n",
    "def load_images(path):\n",
    "    image_paths = []\n",
    "    image_extensions = [\"png\", \"jpg\"]\n",
    "    for ext in image_extensions:\n",
    "        print(\"Looking for images in\", os.path.join(path, \"*.{}\".format(ext)))\n",
    "        for impath in glob.glob(os.path.join(path, \"*.{}\".format(ext))):\n",
    "            image_paths.append(impath)\n",
    "    first_image = cv2.imread(image_paths[0])\n",
    "    W, H = first_image.shape[:2]\n",
    "    image_paths.sort()\n",
    "    image_paths = image_paths\n",
    "    final_images = np.zeros((len(image_paths), H, W, 3), dtype=first_image.dtype)\n",
    "    for idx, impath in enumerate(image_paths):\n",
    "        im = cv2.imread(impath)\n",
    "        im = im[:, :, ::-1] # Convert from BGR to RGB\n",
    "        assert im.dtype == final_images.dtype\n",
    "        final_images[idx] = im\n",
    "    return final_images\n"
   ]
  },
  {
   "cell_type": "code",
   "execution_count": 36,
   "metadata": {},
   "outputs": [
    {
     "data": {
      "text/plain": [
       "<Option at 0x145c30fc2370: -b/--batch-size>"
      ]
     },
     "execution_count": 36,
     "metadata": {},
     "output_type": "execute_result"
    }
   ],
   "source": [
    "from optparse import OptionParser\n",
    "    \n",
    "parser = OptionParser()\n",
    "parser.add_option(\"--p1\", \"--path1\", dest=\"path1\", \n",
    "                       help=\"dc_gan_cifar_results\")\n",
    "parser.add_option(\"--p2\", \"--path2\", dest=\"path2\", \n",
    "                       help=\"dc_gan_results\")\n",
    "parser.add_option(\"--multiprocessing\", dest=\"use_multiprocessing\",\n",
    "                      help=\"Toggle use of multiprocessing for image pre-processing. Defaults to use all cores\",\n",
    "                      default=False,\n",
    "                      action=\"store_true\")\n",
    "parser.add_option(\"-b\", \"--batch-size\", dest=\"batch_size\",\n",
    "                      help=\"Set batch size to use for InceptionV3 network\",\n",
    "                      type=int)\n",
    "    \n",
    "options, _ = parser.parse_args()\n",
    "assert options.path1 is not None, \"--path1 is an required option\"\n",
    "assert options.path2 is not None, \"--path2 is an required option\"\n",
    "assert options.batch_size is not None, \"--batch_size is an required option\"\n",
    "images1 = load_images(options.path1)\n",
    "images2 = load_images(options.path2)\n",
    "fid_value = calculate_fid(images1, images2, options.use_multiprocessing, options.batch_size)\n",
    "print(fid_value)"
   ]
  },
  {
   "cell_type": "markdown",
   "metadata": {},
   "source": [
    "## Kernel inception distance\n",
    "For measuring image generation quality, the Kernel Inception Distance (KID) metric was proposed as a replacement for the popular Frechet Inception Distance (FID). Both metrics assess the difference in the representation space generated and training distributions of an InceptionV3 network pretrained on ImageNet.\n",
    "\n",
    "According to the paper, KID was proposed because FID lacks an unbiased estimator and its expected value is higher when measured on fewer images. KID is better suited to small datasets because its expected value is independent of the number of samples measured. In my experience, it is also computationally lighter, numerically more stable, and easier to implement because it can be estimated on a per-batch basis."
   ]
  },
  {
   "cell_type": "markdown",
   "metadata": {},
   "source": [
    "# Conclusion :\n",
    "\n",
    "In this notebook, we have seen the variational autoencoder (VAE) and\n",
    "some of its extensions. Like, Fully Connected Variational Autoencoder (FCVAE) and Conditional Variational Autoencoder (CVAE) will be used (CVAE). VAE's architecture consists of two components: encoder and decoder. Input data is encoded into\n",
    "hidden states by the encoder. In other words, the encoder projects the input data onto a lower-dimension vector, each element of which has its own distribution. Then, from such distributions, a vector is sampled to obtain a specific input (hidden state) to the decoder. Finally, the decoder attempts to decode its input to\n",
    "the encoder's input data. Unlike GAN, which has predefined hidden state distributions, VAE learns the hidden state distributions p(z) during the process.\n",
    "\n",
    "FCVAE: First implementation of VAE is fully connected layers. We have  taken the 3 x 32 x 32 shape of our input\n",
    "and flatten the features to create an input dimension size of 3072. Encoder will take our images as input and\n",
    "pass them through three Linear+ReLU layers. Reparameterization trick in order to estimate the posterior 𝑧z\n",
    "during our forward pass, given the 𝜇μ and 𝜎2σ2 estimated by the encoder. The forward pass should pass the\n",
    "input image through the encoder to calculate the estimation of mu and logvar, reparametrize to estimate the\n",
    "latent space z, and finally pass z into the decoder to generate an image.\n",
    "\n",
    "Conditional Variational Autoencoder (CVAE): It is an extension of Variational Autoencoder. The\n",
    "conditional variational autoencoder has an extra input to both the encoder and the decoder. Here we will\n",
    "condition our latent space and image generation on the specific class. CVAE architecture will be the same\n",
    "as our FC-VAE architecture, except we'll now add a one-hot label vector to both the x input and the z latent\n",
    "space.\n"
   ]
  },
  {
   "cell_type": "code",
   "execution_count": null,
   "metadata": {},
   "outputs": [],
   "source": []
  }
 ],
 "metadata": {
  "accelerator": "GPU",
  "colab": {
   "collapsed_sections": [
    "JtA1_PsYhs24"
   ],
   "provenance": []
  },
  "kernelspec": {
   "display_name": "Python 3 (ipykernel)",
   "language": "python",
   "name": "python3"
  },
  "language_info": {
   "codemirror_mode": {
    "name": "ipython",
    "version": 3
   },
   "file_extension": ".py",
   "mimetype": "text/x-python",
   "name": "python",
   "nbconvert_exporter": "python",
   "pygments_lexer": "ipython3",
   "version": "3.8.3"
  }
 },
 "nbformat": 4,
 "nbformat_minor": 4
}
